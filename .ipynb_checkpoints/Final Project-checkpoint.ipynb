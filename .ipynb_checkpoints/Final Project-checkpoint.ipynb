{
 "cells": [
  {
   "cell_type": "markdown",
   "metadata": {},
   "source": [
    "# <center> Team 13 Final Project </center>"
   ]
  },
  {
   "cell_type": "markdown",
   "metadata": {},
   "source": [
    "<center>Presented by Carmen Chen, Johnson Ling, and Haiqi Zhou </center>"
   ]
  },
  {
   "cell_type": "markdown",
   "metadata": {},
   "source": [
    "## Project Overview\n",
    "The focus of this project is to **examine the validity of the Quantity Theory of Money**, a fundamental macroeconomic model for predicting the inflation rate, and **evaluating how money velocity would impact US_CPI**. According to the theory, there should be a *positive relationship between money supply (M2) and price level (CPI)*. In this project, real-world data like CPI, GDP, and M2 from the past 20 years will be explored to test the relationship between these variable data using linear regression analysis. \n",
    "\n",
    "## Group Project Structure\n",
    "The project will begin with a data report provided, which will **explain the origin of the data and how to access the data**.\n",
    "\n",
    "The second part of the project will **provide summary statistics about M2, CPI, GDP, Velocity of M2, and visualizations of these statistics** to help further illustrate the project.\n",
    "\n",
    "The third part of the project will **state a hypothesis** based on the Quantity Theory of Money. Then, the project will **conduct a linear regression on two periods of time (1960-1980 and 1999-2019)**. For the data from 1960 to 1980 in which the velocity of M2 was relatively constant, the project will test the hypothesis to study whether the model predicts a positive relationship between M2 and CPI in the real world; for the data from 1999 to 2019 in which the velocity of M2 dropped significantly, the project will examine the impact of the velocity of M2 on the model. \n",
    "\n",
    "Lastly, there will be a **detailed discussion of the results** and how it follows or goes against the model. \n",
    "\n",
    "## Data Report:\n",
    "The data for this project comes from the Federal Reserve Economic Data website (FRED). FRED provides data on the U.S. CPI (where we will compute the inflation rate), M2, GDP, Velocity of M2 (it will serve as a control variable in our analysis) from 1960 to 1980 and from 1999 to 2019. The data can be accessed at https://fred.stlouisfed.org.\n",
    "\n",
    "## Key variables: \n",
    "The four key variables in this project are **CPI, GDP, M2 and Velocity of M2**. \n",
    "\n",
    "The Consumer Price Index (CPI) is a measure of the average change in the price of a basket of consumer goods and services and helps measure price inflation for consumers.\n",
    "\n",
    "Gross Domestic Product (GDP) is the total value of goods and services produced in a country annually.\n",
    "\n",
    "M2 includes a broader set of financial assets held principally by households. M2 consists of M1 plus: (1) savings deposits (which include money market deposit accounts, or MMDAs); (2) small-denomination time deposits (time deposits in amounts of less than $100,000); and (3) balances in retail money market mutual funds (MMMFs). \n",
    "\n",
    "The velocity of M2 is the frequency at which one unit of currency is used to purchase domestically- produced goods and services within a given time period. In other words, it is the number of times one dollar is spent to buy goods and services per unit of time. If the velocity of money is increasing, then more transactions are occurring between individuals in an economy.\n"
   ]
  },
  {
   "cell_type": "code",
   "execution_count": 1,
   "metadata": {},
   "outputs": [],
   "source": [
    "# Key Imports\n",
    "import numpy as np\n",
    "import matplotlib.pyplot as plt\n",
    "%matplotlib inline\n",
    "import pandas as pd\n",
    "import statsmodels.api as sm\n",
    "from statsmodels.iolib.summary2 import summary_col"
   ]
  },
  {
   "cell_type": "markdown",
   "metadata": {},
   "source": [
    "### Accessing GDP data (reported yearly)"
   ]
  },
  {
   "cell_type": "code",
   "execution_count": 2,
   "metadata": {},
   "outputs": [
    {
     "data": {
      "text/html": [
       "<div>\n",
       "<style scoped>\n",
       "    .dataframe tbody tr th:only-of-type {\n",
       "        vertical-align: middle;\n",
       "    }\n",
       "\n",
       "    .dataframe tbody tr th {\n",
       "        vertical-align: top;\n",
       "    }\n",
       "\n",
       "    .dataframe thead th {\n",
       "        text-align: right;\n",
       "    }\n",
       "</style>\n",
       "<table border=\"1\" class=\"dataframe\">\n",
       "  <thead>\n",
       "    <tr style=\"text-align: right;\">\n",
       "      <th></th>\n",
       "      <th>DATE</th>\n",
       "      <th>US_GDP</th>\n",
       "    </tr>\n",
       "  </thead>\n",
       "  <tbody>\n",
       "    <tr>\n",
       "      <th>0</th>\n",
       "      <td>1960-01-01</td>\n",
       "      <td>3259.971</td>\n",
       "    </tr>\n",
       "    <tr>\n",
       "      <th>1</th>\n",
       "      <td>1961-01-01</td>\n",
       "      <td>3343.546</td>\n",
       "    </tr>\n",
       "    <tr>\n",
       "      <th>2</th>\n",
       "      <td>1962-01-01</td>\n",
       "      <td>3548.409</td>\n",
       "    </tr>\n",
       "    <tr>\n",
       "      <th>3</th>\n",
       "      <td>1963-01-01</td>\n",
       "      <td>3702.944</td>\n",
       "    </tr>\n",
       "    <tr>\n",
       "      <th>4</th>\n",
       "      <td>1964-01-01</td>\n",
       "      <td>3916.280</td>\n",
       "    </tr>\n",
       "  </tbody>\n",
       "</table>\n",
       "</div>"
      ],
      "text/plain": [
       "         DATE    US_GDP\n",
       "0  1960-01-01  3259.971\n",
       "1  1961-01-01  3343.546\n",
       "2  1962-01-01  3548.409\n",
       "3  1963-01-01  3702.944\n",
       "4  1964-01-01  3916.280"
      ]
     },
     "execution_count": 2,
     "metadata": {},
     "output_type": "execute_result"
    }
   ],
   "source": [
    "# Access GDP Data\n",
    "url_g = 'https://fred.stlouisfed.org/graph/fredgraph.csv?bgcolor=%23e1e9f0&chart_type=line&drp=0&fo=open%20sans&graph_bgcolor=%23ffffff&height=450&mode=fred&recession_bars=on&txtcolor=%23444444&ts=12&tts=12&width=1168&nt=0&thu=0&trc=0&show_legend=yes&show_axis_titles=yes&show_tooltip=yes&id=GDPCA&scale=left&cosd=1960-01-01&coed=2019-01-01&line_color=%234572a7&link_values=false&line_style=solid&mark_type=none&mw=3&lw=2&ost=-99999&oet=99999&mma=0&fml=a&fq=Annual&fam=avg&fgst=lin&fgsnd=2019-01-01&line_index=1&transformation=lin&vintage_date=2020-11-03&revision_date=2020-11-03&nd=1929-01-01'\n",
    "data_g = pd.read_csv(url_g, parse_dates=True)\n",
    "data_g.columns = ['DATE','US_GDP'] \n",
    "data_g.head()"
   ]
  },
  {
   "cell_type": "code",
   "execution_count": 3,
   "metadata": {},
   "outputs": [
    {
     "data": {
      "text/html": [
       "<div>\n",
       "<style scoped>\n",
       "    .dataframe tbody tr th:only-of-type {\n",
       "        vertical-align: middle;\n",
       "    }\n",
       "\n",
       "    .dataframe tbody tr th {\n",
       "        vertical-align: top;\n",
       "    }\n",
       "\n",
       "    .dataframe thead th {\n",
       "        text-align: right;\n",
       "    }\n",
       "</style>\n",
       "<table border=\"1\" class=\"dataframe\">\n",
       "  <thead>\n",
       "    <tr style=\"text-align: right;\">\n",
       "      <th></th>\n",
       "      <th>US_GDP</th>\n",
       "    </tr>\n",
       "  </thead>\n",
       "  <tbody>\n",
       "    <tr>\n",
       "      <th>count</th>\n",
       "      <td>60.000000</td>\n",
       "    </tr>\n",
       "    <tr>\n",
       "      <th>mean</th>\n",
       "      <td>10002.882083</td>\n",
       "    </tr>\n",
       "    <tr>\n",
       "      <th>std</th>\n",
       "      <td>4782.658931</td>\n",
       "    </tr>\n",
       "    <tr>\n",
       "      <th>min</th>\n",
       "      <td>3259.971000</td>\n",
       "    </tr>\n",
       "    <tr>\n",
       "      <th>25%</th>\n",
       "      <td>5679.521500</td>\n",
       "    </tr>\n",
       "    <tr>\n",
       "      <th>50%</th>\n",
       "      <td>9273.744500</td>\n",
       "    </tr>\n",
       "    <tr>\n",
       "      <th>75%</th>\n",
       "      <td>14532.913750</td>\n",
       "    </tr>\n",
       "    <tr>\n",
       "      <th>max</th>\n",
       "      <td>19091.662000</td>\n",
       "    </tr>\n",
       "  </tbody>\n",
       "</table>\n",
       "</div>"
      ],
      "text/plain": [
       "             US_GDP\n",
       "count     60.000000\n",
       "mean   10002.882083\n",
       "std     4782.658931\n",
       "min     3259.971000\n",
       "25%     5679.521500\n",
       "50%     9273.744500\n",
       "75%    14532.913750\n",
       "max    19091.662000"
      ]
     },
     "execution_count": 3,
     "metadata": {},
     "output_type": "execute_result"
    }
   ],
   "source": [
    "# Summary Statistics for GDP\n",
    "data_g.describe()"
   ]
  },
  {
   "cell_type": "code",
   "execution_count": 4,
   "metadata": {},
   "outputs": [
    {
     "data": {
      "text/html": [
       "<div>\n",
       "<style scoped>\n",
       "    .dataframe tbody tr th:only-of-type {\n",
       "        vertical-align: middle;\n",
       "    }\n",
       "\n",
       "    .dataframe tbody tr th {\n",
       "        vertical-align: top;\n",
       "    }\n",
       "\n",
       "    .dataframe thead th {\n",
       "        text-align: right;\n",
       "    }\n",
       "</style>\n",
       "<table border=\"1\" class=\"dataframe\">\n",
       "  <thead>\n",
       "    <tr style=\"text-align: right;\">\n",
       "      <th></th>\n",
       "      <th>YEAR</th>\n",
       "      <th>US_GDP</th>\n",
       "    </tr>\n",
       "  </thead>\n",
       "  <tbody>\n",
       "    <tr>\n",
       "      <th>0</th>\n",
       "      <td>1960</td>\n",
       "      <td>3259.971</td>\n",
       "    </tr>\n",
       "    <tr>\n",
       "      <th>1</th>\n",
       "      <td>1961</td>\n",
       "      <td>3343.546</td>\n",
       "    </tr>\n",
       "    <tr>\n",
       "      <th>2</th>\n",
       "      <td>1962</td>\n",
       "      <td>3548.409</td>\n",
       "    </tr>\n",
       "    <tr>\n",
       "      <th>3</th>\n",
       "      <td>1963</td>\n",
       "      <td>3702.944</td>\n",
       "    </tr>\n",
       "    <tr>\n",
       "      <th>4</th>\n",
       "      <td>1964</td>\n",
       "      <td>3916.280</td>\n",
       "    </tr>\n",
       "  </tbody>\n",
       "</table>\n",
       "</div>"
      ],
      "text/plain": [
       "   YEAR    US_GDP\n",
       "0  1960  3259.971\n",
       "1  1961  3343.546\n",
       "2  1962  3548.409\n",
       "3  1963  3702.944\n",
       "4  1964  3916.280"
      ]
     },
     "execution_count": 4,
     "metadata": {},
     "output_type": "execute_result"
    }
   ],
   "source": [
    "# Convert DATE format to YEAR\n",
    "# Rename the YEAR \n",
    "data_g['DATE'] = pd.DatetimeIndex(data_g['DATE']).year\n",
    "data_g.columns = ['YEAR','US_GDP']\n",
    "data_g = data_g.round(3)\n",
    "data_g.head()"
   ]
  },
  {
   "cell_type": "code",
   "execution_count": 5,
   "metadata": {},
   "outputs": [
    {
     "data": {
      "image/png": "[encoded data removed]",
      "text/plain": [
       "<Figure size 864x432 with 1 Axes>"
      ]
     },
     "metadata": {
      "needs_background": "light"
     },
     "output_type": "display_data"
    }
   ],
   "source": [
    "# Graphing the GDP\n",
    "data_g1 = data_g.set_index('YEAR')\n",
    "ax_g1 = data_g1.plot(title='US GDP', legend=False, figsize=(12,6))\n",
    "ax_g1.set_xlabel('Year', fontsize=12,)\n",
    "ax_g1.set_ylabel('Billions of Chained 2012 Dollars', fontsize=12)\n",
    "plt.show()"
   ]
  },
  {
   "cell_type": "markdown",
   "metadata": {},
   "source": [
    "### Accessing CPI data (reported monthly)"
   ]
  },
  {
   "cell_type": "code",
   "execution_count": 6,
   "metadata": {},
   "outputs": [
    {
     "data": {
      "text/html": [
       "<div>\n",
       "<style scoped>\n",
       "    .dataframe tbody tr th:only-of-type {\n",
       "        vertical-align: middle;\n",
       "    }\n",
       "\n",
       "    .dataframe tbody tr th {\n",
       "        vertical-align: top;\n",
       "    }\n",
       "\n",
       "    .dataframe thead th {\n",
       "        text-align: right;\n",
       "    }\n",
       "</style>\n",
       "<table border=\"1\" class=\"dataframe\">\n",
       "  <thead>\n",
       "    <tr style=\"text-align: right;\">\n",
       "      <th></th>\n",
       "      <th>DATE</th>\n",
       "      <th>US_CPI</th>\n",
       "    </tr>\n",
       "  </thead>\n",
       "  <tbody>\n",
       "    <tr>\n",
       "      <th>0</th>\n",
       "      <td>1960-01-01</td>\n",
       "      <td>29.37</td>\n",
       "    </tr>\n",
       "    <tr>\n",
       "      <th>1</th>\n",
       "      <td>1960-02-01</td>\n",
       "      <td>29.41</td>\n",
       "    </tr>\n",
       "    <tr>\n",
       "      <th>2</th>\n",
       "      <td>1960-03-01</td>\n",
       "      <td>29.41</td>\n",
       "    </tr>\n",
       "    <tr>\n",
       "      <th>3</th>\n",
       "      <td>1960-04-01</td>\n",
       "      <td>29.54</td>\n",
       "    </tr>\n",
       "    <tr>\n",
       "      <th>4</th>\n",
       "      <td>1960-05-01</td>\n",
       "      <td>29.57</td>\n",
       "    </tr>\n",
       "  </tbody>\n",
       "</table>\n",
       "</div>"
      ],
      "text/plain": [
       "         DATE  US_CPI\n",
       "0  1960-01-01   29.37\n",
       "1  1960-02-01   29.41\n",
       "2  1960-03-01   29.41\n",
       "3  1960-04-01   29.54\n",
       "4  1960-05-01   29.57"
      ]
     },
     "execution_count": 6,
     "metadata": {},
     "output_type": "execute_result"
    }
   ],
   "source": [
    "# Access CPI Data\n",
    "url_c = 'https://fred.stlouisfed.org/graph/fredgraph.csv?bgcolor=%23e1e9f0&chart_type=line&drp=0&fo=open%20sans&graph_bgcolor=%23ffffff&height=450&mode=fred&recession_bars=on&txtcolor=%23444444&ts=12&tts=12&width=1168&nt=0&thu=0&trc=0&show_legend=yes&show_axis_titles=yes&show_tooltip=yes&id=CPIAUCSL&scale=left&cosd=1960-01-01&coed=2019-12-01&line_color=%234572a7&link_values=false&line_style=solid&mark_type=none&mw=3&lw=2&ost=-99999&oet=99999&mma=0&fml=a&fq=Monthly&fam=avg&fgst=lin&fgsnd=2020-02-01&line_index=1&transformation=lin&vintage_date=2020-11-09&revision_date=2020-11-09&nd=1947-01-01'\n",
    "data_c = pd.read_csv(url_c, parse_dates=True)\n",
    "data_c.columns = ['DATE','US_CPI']\n",
    "data_c.head()"
   ]
  },
  {
   "cell_type": "code",
   "execution_count": 7,
   "metadata": {},
   "outputs": [
    {
     "data": {
      "text/html": [
       "<div>\n",
       "<style scoped>\n",
       "    .dataframe tbody tr th:only-of-type {\n",
       "        vertical-align: middle;\n",
       "    }\n",
       "\n",
       "    .dataframe tbody tr th {\n",
       "        vertical-align: top;\n",
       "    }\n",
       "\n",
       "    .dataframe thead th {\n",
       "        text-align: right;\n",
       "    }\n",
       "</style>\n",
       "<table border=\"1\" class=\"dataframe\">\n",
       "  <thead>\n",
       "    <tr style=\"text-align: right;\">\n",
       "      <th></th>\n",
       "      <th>US_CPI</th>\n",
       "    </tr>\n",
       "  </thead>\n",
       "  <tbody>\n",
       "    <tr>\n",
       "      <th>count</th>\n",
       "      <td>720.000000</td>\n",
       "    </tr>\n",
       "    <tr>\n",
       "      <th>mean</th>\n",
       "      <td>128.285533</td>\n",
       "    </tr>\n",
       "    <tr>\n",
       "      <th>std</th>\n",
       "      <td>74.108806</td>\n",
       "    </tr>\n",
       "    <tr>\n",
       "      <th>min</th>\n",
       "      <td>29.370000</td>\n",
       "    </tr>\n",
       "    <tr>\n",
       "      <th>25%</th>\n",
       "      <td>52.200000</td>\n",
       "    </tr>\n",
       "    <tr>\n",
       "      <th>50%</th>\n",
       "      <td>126.900000</td>\n",
       "    </tr>\n",
       "    <tr>\n",
       "      <th>75%</th>\n",
       "      <td>191.700000</td>\n",
       "    </tr>\n",
       "    <tr>\n",
       "      <th>max</th>\n",
       "      <td>258.444000</td>\n",
       "    </tr>\n",
       "  </tbody>\n",
       "</table>\n",
       "</div>"
      ],
      "text/plain": [
       "           US_CPI\n",
       "count  720.000000\n",
       "mean   128.285533\n",
       "std     74.108806\n",
       "min     29.370000\n",
       "25%     52.200000\n",
       "50%    126.900000\n",
       "75%    191.700000\n",
       "max    258.444000"
      ]
     },
     "execution_count": 7,
     "metadata": {},
     "output_type": "execute_result"
    }
   ],
   "source": [
    "# Summary Statistics for CPI\n",
    "data_c.describe()"
   ]
  },
  {
   "cell_type": "code",
   "execution_count": 8,
   "metadata": {},
   "outputs": [
    {
     "data": {
      "text/html": [
       "<div>\n",
       "<style scoped>\n",
       "    .dataframe tbody tr th:only-of-type {\n",
       "        vertical-align: middle;\n",
       "    }\n",
       "\n",
       "    .dataframe tbody tr th {\n",
       "        vertical-align: top;\n",
       "    }\n",
       "\n",
       "    .dataframe thead th {\n",
       "        text-align: right;\n",
       "    }\n",
       "</style>\n",
       "<table border=\"1\" class=\"dataframe\">\n",
       "  <thead>\n",
       "    <tr style=\"text-align: right;\">\n",
       "      <th></th>\n",
       "      <th>YEAR</th>\n",
       "      <th>US_CPI</th>\n",
       "    </tr>\n",
       "  </thead>\n",
       "  <tbody>\n",
       "    <tr>\n",
       "      <th>0</th>\n",
       "      <td>1960</td>\n",
       "      <td>29.37</td>\n",
       "    </tr>\n",
       "    <tr>\n",
       "      <th>1</th>\n",
       "      <td>1960</td>\n",
       "      <td>29.41</td>\n",
       "    </tr>\n",
       "    <tr>\n",
       "      <th>2</th>\n",
       "      <td>1960</td>\n",
       "      <td>29.41</td>\n",
       "    </tr>\n",
       "    <tr>\n",
       "      <th>3</th>\n",
       "      <td>1960</td>\n",
       "      <td>29.54</td>\n",
       "    </tr>\n",
       "    <tr>\n",
       "      <th>4</th>\n",
       "      <td>1960</td>\n",
       "      <td>29.57</td>\n",
       "    </tr>\n",
       "  </tbody>\n",
       "</table>\n",
       "</div>"
      ],
      "text/plain": [
       "   YEAR  US_CPI\n",
       "0  1960   29.37\n",
       "1  1960   29.41\n",
       "2  1960   29.41\n",
       "3  1960   29.54\n",
       "4  1960   29.57"
      ]
     },
     "execution_count": 8,
     "metadata": {},
     "output_type": "execute_result"
    }
   ],
   "source": [
    "# Convert Month to YEAR\n",
    "# Rename the YEAR\n",
    "data_c['DATE'] = pd.DatetimeIndex(data_c['DATE']).year\n",
    "data_c.columns = ['YEAR','US_CPI']\n",
    "data_c.head()"
   ]
  },
  {
   "cell_type": "code",
   "execution_count": 9,
   "metadata": {},
   "outputs": [
    {
     "data": {
      "text/html": [
       "<div>\n",
       "<style scoped>\n",
       "    .dataframe tbody tr th:only-of-type {\n",
       "        vertical-align: middle;\n",
       "    }\n",
       "\n",
       "    .dataframe tbody tr th {\n",
       "        vertical-align: top;\n",
       "    }\n",
       "\n",
       "    .dataframe thead th {\n",
       "        text-align: right;\n",
       "    }\n",
       "</style>\n",
       "<table border=\"1\" class=\"dataframe\">\n",
       "  <thead>\n",
       "    <tr style=\"text-align: right;\">\n",
       "      <th></th>\n",
       "      <th>US_CPI</th>\n",
       "    </tr>\n",
       "    <tr>\n",
       "      <th>YEAR</th>\n",
       "      <th></th>\n",
       "    </tr>\n",
       "  </thead>\n",
       "  <tbody>\n",
       "    <tr>\n",
       "      <th>1960</th>\n",
       "      <td>29.585</td>\n",
       "    </tr>\n",
       "    <tr>\n",
       "      <th>1961</th>\n",
       "      <td>29.902</td>\n",
       "    </tr>\n",
       "    <tr>\n",
       "      <th>1962</th>\n",
       "      <td>30.253</td>\n",
       "    </tr>\n",
       "    <tr>\n",
       "      <th>1963</th>\n",
       "      <td>30.633</td>\n",
       "    </tr>\n",
       "    <tr>\n",
       "      <th>1964</th>\n",
       "      <td>31.038</td>\n",
       "    </tr>\n",
       "  </tbody>\n",
       "</table>\n",
       "</div>"
      ],
      "text/plain": [
       "      US_CPI\n",
       "YEAR        \n",
       "1960  29.585\n",
       "1961  29.902\n",
       "1962  30.253\n",
       "1963  30.633\n",
       "1964  31.038"
      ]
     },
     "execution_count": 9,
     "metadata": {},
     "output_type": "execute_result"
    }
   ],
   "source": [
    "# Compute the yearly data from monthly data\n",
    "data_c = data_c.groupby(['YEAR']).mean()\n",
    "data_c = data_c.round(3)\n",
    "data_c.head()"
   ]
  },
  {
   "cell_type": "code",
   "execution_count": 10,
   "metadata": {},
   "outputs": [
    {
     "data": {
      "image/png": "[encoded data removed]",
      "text/plain": [
       "<Figure size 864x432 with 1 Axes>"
      ]
     },
     "metadata": {
      "needs_background": "light"
     },
     "output_type": "display_data"
    }
   ],
   "source": [
    "# Graphing the CPI\n",
    "# data_c1 = data_c.set_index('YEAR') ## don't need to set index because YEAR is already an index\n",
    "ax_c1 = data_c.plot(title='US CPI', legend=False, figsize=(12,6))\n",
    "ax_c1.set_xlabel('Year', fontsize=12)\n",
    "ax_c1.set_ylabel('Index 1982-1984 = 100', fontsize=12)\n",
    "plt.show()"
   ]
  },
  {
   "cell_type": "markdown",
   "metadata": {},
   "source": [
    "### Accessing M2 data (reported monthly)"
   ]
  },
  {
   "cell_type": "code",
   "execution_count": 11,
   "metadata": {},
   "outputs": [
    {
     "data": {
      "text/html": [
       "<div>\n",
       "<style scoped>\n",
       "    .dataframe tbody tr th:only-of-type {\n",
       "        vertical-align: middle;\n",
       "    }\n",
       "\n",
       "    .dataframe tbody tr th {\n",
       "        vertical-align: top;\n",
       "    }\n",
       "\n",
       "    .dataframe thead th {\n",
       "        text-align: right;\n",
       "    }\n",
       "</style>\n",
       "<table border=\"1\" class=\"dataframe\">\n",
       "  <thead>\n",
       "    <tr style=\"text-align: right;\">\n",
       "      <th></th>\n",
       "      <th>DATE</th>\n",
       "      <th>US_M2</th>\n",
       "    </tr>\n",
       "  </thead>\n",
       "  <tbody>\n",
       "    <tr>\n",
       "      <th>0</th>\n",
       "      <td>1960-01-01</td>\n",
       "      <td>298.2</td>\n",
       "    </tr>\n",
       "    <tr>\n",
       "      <th>1</th>\n",
       "      <td>1960-02-01</td>\n",
       "      <td>298.4</td>\n",
       "    </tr>\n",
       "    <tr>\n",
       "      <th>2</th>\n",
       "      <td>1960-03-01</td>\n",
       "      <td>299.3</td>\n",
       "    </tr>\n",
       "    <tr>\n",
       "      <th>3</th>\n",
       "      <td>1960-04-01</td>\n",
       "      <td>300.1</td>\n",
       "    </tr>\n",
       "    <tr>\n",
       "      <th>4</th>\n",
       "      <td>1960-05-01</td>\n",
       "      <td>300.9</td>\n",
       "    </tr>\n",
       "  </tbody>\n",
       "</table>\n",
       "</div>"
      ],
      "text/plain": [
       "         DATE  US_M2\n",
       "0  1960-01-01  298.2\n",
       "1  1960-02-01  298.4\n",
       "2  1960-03-01  299.3\n",
       "3  1960-04-01  300.1\n",
       "4  1960-05-01  300.9"
      ]
     },
     "execution_count": 11,
     "metadata": {},
     "output_type": "execute_result"
    }
   ],
   "source": [
    "#Access M2 Data\n",
    "url_m = 'https://fred.stlouisfed.org/graph/fredgraph.csv?bgcolor=%23e1e9f0&chart_type=line&drp=0&fo=open%20sans&graph_bgcolor=%23ffffff&height=450&mode=fred&recession_bars=on&txtcolor=%23444444&ts=12&tts=12&width=1168&nt=0&thu=0&trc=0&show_legend=yes&show_axis_titles=yes&show_tooltip=yes&id=M2SL&scale=left&cosd=1960-01-01&coed=2019-12-01&line_color=%234572a7&link_values=false&line_style=solid&mark_type=none&mw=3&lw=2&ost=-99999&oet=99999&mma=0&fml=a&fq=Monthly&fam=avg&fgst=lin&fgsnd=2020-02-01&line_index=1&transformation=lin&vintage_date=2020-11-09&revision_date=2020-11-09&nd=1959-01-01'\n",
    "data_m = pd.read_csv(url_m, parse_dates=True)\n",
    "data_m.columns = ['DATE','US_M2'] \n",
    "data_m.head()"
   ]
  },
  {
   "cell_type": "code",
   "execution_count": 12,
   "metadata": {},
   "outputs": [
    {
     "data": {
      "text/html": [
       "<div>\n",
       "<style scoped>\n",
       "    .dataframe tbody tr th:only-of-type {\n",
       "        vertical-align: middle;\n",
       "    }\n",
       "\n",
       "    .dataframe tbody tr th {\n",
       "        vertical-align: top;\n",
       "    }\n",
       "\n",
       "    .dataframe thead th {\n",
       "        text-align: right;\n",
       "    }\n",
       "</style>\n",
       "<table border=\"1\" class=\"dataframe\">\n",
       "  <thead>\n",
       "    <tr style=\"text-align: right;\">\n",
       "      <th></th>\n",
       "      <th>US_M2</th>\n",
       "    </tr>\n",
       "  </thead>\n",
       "  <tbody>\n",
       "    <tr>\n",
       "      <th>count</th>\n",
       "      <td>720.000000</td>\n",
       "    </tr>\n",
       "    <tr>\n",
       "      <th>mean</th>\n",
       "      <td>4266.704306</td>\n",
       "    </tr>\n",
       "    <tr>\n",
       "      <th>std</th>\n",
       "      <td>4004.601048</td>\n",
       "    </tr>\n",
       "    <tr>\n",
       "      <th>min</th>\n",
       "      <td>298.200000</td>\n",
       "    </tr>\n",
       "    <tr>\n",
       "      <th>25%</th>\n",
       "      <td>905.250000</td>\n",
       "    </tr>\n",
       "    <tr>\n",
       "      <th>50%</th>\n",
       "      <td>3159.650000</td>\n",
       "    </tr>\n",
       "    <tr>\n",
       "      <th>75%</th>\n",
       "      <td>6406.550000</td>\n",
       "    </tr>\n",
       "    <tr>\n",
       "      <th>max</th>\n",
       "      <td>15307.100000</td>\n",
       "    </tr>\n",
       "  </tbody>\n",
       "</table>\n",
       "</div>"
      ],
      "text/plain": [
       "              US_M2\n",
       "count    720.000000\n",
       "mean    4266.704306\n",
       "std     4004.601048\n",
       "min      298.200000\n",
       "25%      905.250000\n",
       "50%     3159.650000\n",
       "75%     6406.550000\n",
       "max    15307.100000"
      ]
     },
     "execution_count": 12,
     "metadata": {},
     "output_type": "execute_result"
    }
   ],
   "source": [
    "# Summary Statistics for M2\n",
    "data_m.describe()"
   ]
  },
  {
   "cell_type": "code",
   "execution_count": 13,
   "metadata": {},
   "outputs": [
    {
     "data": {
      "text/html": [
       "<div>\n",
       "<style scoped>\n",
       "    .dataframe tbody tr th:only-of-type {\n",
       "        vertical-align: middle;\n",
       "    }\n",
       "\n",
       "    .dataframe tbody tr th {\n",
       "        vertical-align: top;\n",
       "    }\n",
       "\n",
       "    .dataframe thead th {\n",
       "        text-align: right;\n",
       "    }\n",
       "</style>\n",
       "<table border=\"1\" class=\"dataframe\">\n",
       "  <thead>\n",
       "    <tr style=\"text-align: right;\">\n",
       "      <th></th>\n",
       "      <th>YEAR</th>\n",
       "      <th>M2</th>\n",
       "    </tr>\n",
       "  </thead>\n",
       "  <tbody>\n",
       "    <tr>\n",
       "      <th>0</th>\n",
       "      <td>1960</td>\n",
       "      <td>298.2</td>\n",
       "    </tr>\n",
       "    <tr>\n",
       "      <th>1</th>\n",
       "      <td>1960</td>\n",
       "      <td>298.4</td>\n",
       "    </tr>\n",
       "    <tr>\n",
       "      <th>2</th>\n",
       "      <td>1960</td>\n",
       "      <td>299.3</td>\n",
       "    </tr>\n",
       "    <tr>\n",
       "      <th>3</th>\n",
       "      <td>1960</td>\n",
       "      <td>300.1</td>\n",
       "    </tr>\n",
       "    <tr>\n",
       "      <th>4</th>\n",
       "      <td>1960</td>\n",
       "      <td>300.9</td>\n",
       "    </tr>\n",
       "  </tbody>\n",
       "</table>\n",
       "</div>"
      ],
      "text/plain": [
       "   YEAR     M2\n",
       "0  1960  298.2\n",
       "1  1960  298.4\n",
       "2  1960  299.3\n",
       "3  1960  300.1\n",
       "4  1960  300.9"
      ]
     },
     "execution_count": 13,
     "metadata": {},
     "output_type": "execute_result"
    }
   ],
   "source": [
    "# Convert M2 Month to YEAR\n",
    "# Rename the YEAR\n",
    "data_m['DATE'] = pd.DatetimeIndex(data_m['DATE']).year\n",
    "data_m.columns = ['YEAR','M2']\n",
    "data_m.head()"
   ]
  },
  {
   "cell_type": "code",
   "execution_count": 14,
   "metadata": {},
   "outputs": [
    {
     "data": {
      "text/html": [
       "<div>\n",
       "<style scoped>\n",
       "    .dataframe tbody tr th:only-of-type {\n",
       "        vertical-align: middle;\n",
       "    }\n",
       "\n",
       "    .dataframe tbody tr th {\n",
       "        vertical-align: top;\n",
       "    }\n",
       "\n",
       "    .dataframe thead th {\n",
       "        text-align: right;\n",
       "    }\n",
       "</style>\n",
       "<table border=\"1\" class=\"dataframe\">\n",
       "  <thead>\n",
       "    <tr style=\"text-align: right;\">\n",
       "      <th></th>\n",
       "      <th>M2</th>\n",
       "    </tr>\n",
       "    <tr>\n",
       "      <th>YEAR</th>\n",
       "      <th></th>\n",
       "    </tr>\n",
       "  </thead>\n",
       "  <tbody>\n",
       "    <tr>\n",
       "      <th>1960</th>\n",
       "      <td>304.283</td>\n",
       "    </tr>\n",
       "    <tr>\n",
       "      <th>1961</th>\n",
       "      <td>324.833</td>\n",
       "    </tr>\n",
       "    <tr>\n",
       "      <th>1962</th>\n",
       "      <td>350.100</td>\n",
       "    </tr>\n",
       "    <tr>\n",
       "      <th>1963</th>\n",
       "      <td>379.608</td>\n",
       "    </tr>\n",
       "    <tr>\n",
       "      <th>1964</th>\n",
       "      <td>409.317</td>\n",
       "    </tr>\n",
       "  </tbody>\n",
       "</table>\n",
       "</div>"
      ],
      "text/plain": [
       "           M2\n",
       "YEAR         \n",
       "1960  304.283\n",
       "1961  324.833\n",
       "1962  350.100\n",
       "1963  379.608\n",
       "1964  409.317"
      ]
     },
     "execution_count": 14,
     "metadata": {},
     "output_type": "execute_result"
    }
   ],
   "source": [
    "# Compute the yearly data from monthly data\n",
    "data_m = data_m.groupby(['YEAR']).mean()\n",
    "data_m = data_m.round(3)\n",
    "data_m.head()"
   ]
  },
  {
   "cell_type": "code",
   "execution_count": 15,
   "metadata": {},
   "outputs": [
    {
     "data": {
      "image/png": "[encoded data removed]",
      "text/plain": [
       "<Figure size 864x432 with 1 Axes>"
      ]
     },
     "metadata": {
      "needs_background": "light"
     },
     "output_type": "display_data"
    }
   ],
   "source": [
    "# Graphing the M2\n",
    "ax_m1 = data_m.plot(title='US M2', legend=False, figsize=(12,6))\n",
    "ax_m1.set_xlabel('Year', fontsize=12)\n",
    "ax_m1.set_ylabel('Billions of Dollars', fontsize=12)\n",
    "plt.show()"
   ]
  },
  {
   "cell_type": "markdown",
   "metadata": {},
   "source": [
    "### Accessing V data (reported monthly)"
   ]
  },
  {
   "cell_type": "code",
   "execution_count": 16,
   "metadata": {},
   "outputs": [
    {
     "data": {
      "text/html": [
       "<div>\n",
       "<style scoped>\n",
       "    .dataframe tbody tr th:only-of-type {\n",
       "        vertical-align: middle;\n",
       "    }\n",
       "\n",
       "    .dataframe tbody tr th {\n",
       "        vertical-align: top;\n",
       "    }\n",
       "\n",
       "    .dataframe thead th {\n",
       "        text-align: right;\n",
       "    }\n",
       "</style>\n",
       "<table border=\"1\" class=\"dataframe\">\n",
       "  <thead>\n",
       "    <tr style=\"text-align: right;\">\n",
       "      <th></th>\n",
       "      <th>DATE</th>\n",
       "      <th>US_V</th>\n",
       "    </tr>\n",
       "  </thead>\n",
       "  <tbody>\n",
       "    <tr>\n",
       "      <th>0</th>\n",
       "      <td>1960-01-01</td>\n",
       "      <td>1.817</td>\n",
       "    </tr>\n",
       "    <tr>\n",
       "      <th>1</th>\n",
       "      <td>1960-04-01</td>\n",
       "      <td>1.797</td>\n",
       "    </tr>\n",
       "    <tr>\n",
       "      <th>2</th>\n",
       "      <td>1960-07-01</td>\n",
       "      <td>1.780</td>\n",
       "    </tr>\n",
       "    <tr>\n",
       "      <th>3</th>\n",
       "      <td>1960-10-01</td>\n",
       "      <td>1.737</td>\n",
       "    </tr>\n",
       "    <tr>\n",
       "      <th>4</th>\n",
       "      <td>1961-01-01</td>\n",
       "      <td>1.723</td>\n",
       "    </tr>\n",
       "  </tbody>\n",
       "</table>\n",
       "</div>"
      ],
      "text/plain": [
       "         DATE   US_V\n",
       "0  1960-01-01  1.817\n",
       "1  1960-04-01  1.797\n",
       "2  1960-07-01  1.780\n",
       "3  1960-10-01  1.737\n",
       "4  1961-01-01  1.723"
      ]
     },
     "execution_count": 16,
     "metadata": {},
     "output_type": "execute_result"
    }
   ],
   "source": [
    "# Access V Data\n",
    "url_v = 'https://fred.stlouisfed.org/graph/fredgraph.csv?bgcolor=%23e1e9f0&chart_type=line&drp=0&fo=open%20sans&graph_bgcolor=%23ffffff&height=450&mode=fred&recession_bars=on&txtcolor=%23444444&ts=12&tts=12&width=1168&nt=0&thu=0&trc=0&show_legend=yes&show_axis_titles=yes&show_tooltip=yes&id=M2V&scale=left&cosd=1960-01-01&coed=2019-12-01&line_color=%234572a7&link_values=false&line_style=solid&mark_type=none&mw=3&lw=2&ost=-99999&oet=99999&mma=0&fml=a&fq=Quarterly&fam=avg&fgst=lin&fgsnd=2020-02-01&line_index=1&transformation=lin&vintage_date=2020-11-09&revision_date=2020-11-09&nd=1959-01-01'\n",
    "data_v = pd.read_csv(url_v, parse_dates=True)\n",
    "data_v.columns = ['DATE','US_V'] \n",
    "data_v.head()"
   ]
  },
  {
   "cell_type": "code",
   "execution_count": 17,
   "metadata": {},
   "outputs": [
    {
     "data": {
      "text/html": [
       "<div>\n",
       "<style scoped>\n",
       "    .dataframe tbody tr th:only-of-type {\n",
       "        vertical-align: middle;\n",
       "    }\n",
       "\n",
       "    .dataframe tbody tr th {\n",
       "        vertical-align: top;\n",
       "    }\n",
       "\n",
       "    .dataframe thead th {\n",
       "        text-align: right;\n",
       "    }\n",
       "</style>\n",
       "<table border=\"1\" class=\"dataframe\">\n",
       "  <thead>\n",
       "    <tr style=\"text-align: right;\">\n",
       "      <th></th>\n",
       "      <th>US_V</th>\n",
       "    </tr>\n",
       "  </thead>\n",
       "  <tbody>\n",
       "    <tr>\n",
       "      <th>count</th>\n",
       "      <td>240.000000</td>\n",
       "    </tr>\n",
       "    <tr>\n",
       "      <th>mean</th>\n",
       "      <td>1.805742</td>\n",
       "    </tr>\n",
       "    <tr>\n",
       "      <th>std</th>\n",
       "      <td>0.186371</td>\n",
       "    </tr>\n",
       "    <tr>\n",
       "      <th>min</th>\n",
       "      <td>1.427000</td>\n",
       "    </tr>\n",
       "    <tr>\n",
       "      <th>25%</th>\n",
       "      <td>1.709500</td>\n",
       "    </tr>\n",
       "    <tr>\n",
       "      <th>50%</th>\n",
       "      <td>1.775000</td>\n",
       "    </tr>\n",
       "    <tr>\n",
       "      <th>75%</th>\n",
       "      <td>1.928750</td>\n",
       "    </tr>\n",
       "    <tr>\n",
       "      <th>max</th>\n",
       "      <td>2.198000</td>\n",
       "    </tr>\n",
       "  </tbody>\n",
       "</table>\n",
       "</div>"
      ],
      "text/plain": [
       "             US_V\n",
       "count  240.000000\n",
       "mean     1.805742\n",
       "std      0.186371\n",
       "min      1.427000\n",
       "25%      1.709500\n",
       "50%      1.775000\n",
       "75%      1.928750\n",
       "max      2.198000"
      ]
     },
     "execution_count": 17,
     "metadata": {},
     "output_type": "execute_result"
    }
   ],
   "source": [
    "# Summary Statistics for V\n",
    "data_v.describe()"
   ]
  },
  {
   "cell_type": "code",
   "execution_count": 18,
   "metadata": {},
   "outputs": [
    {
     "data": {
      "text/html": [
       "<div>\n",
       "<style scoped>\n",
       "    .dataframe tbody tr th:only-of-type {\n",
       "        vertical-align: middle;\n",
       "    }\n",
       "\n",
       "    .dataframe tbody tr th {\n",
       "        vertical-align: top;\n",
       "    }\n",
       "\n",
       "    .dataframe thead th {\n",
       "        text-align: right;\n",
       "    }\n",
       "</style>\n",
       "<table border=\"1\" class=\"dataframe\">\n",
       "  <thead>\n",
       "    <tr style=\"text-align: right;\">\n",
       "      <th></th>\n",
       "      <th>YEAR</th>\n",
       "      <th>V</th>\n",
       "    </tr>\n",
       "  </thead>\n",
       "  <tbody>\n",
       "    <tr>\n",
       "      <th>0</th>\n",
       "      <td>1960</td>\n",
       "      <td>1.817</td>\n",
       "    </tr>\n",
       "    <tr>\n",
       "      <th>1</th>\n",
       "      <td>1960</td>\n",
       "      <td>1.797</td>\n",
       "    </tr>\n",
       "    <tr>\n",
       "      <th>2</th>\n",
       "      <td>1960</td>\n",
       "      <td>1.780</td>\n",
       "    </tr>\n",
       "    <tr>\n",
       "      <th>3</th>\n",
       "      <td>1960</td>\n",
       "      <td>1.737</td>\n",
       "    </tr>\n",
       "    <tr>\n",
       "      <th>4</th>\n",
       "      <td>1961</td>\n",
       "      <td>1.723</td>\n",
       "    </tr>\n",
       "  </tbody>\n",
       "</table>\n",
       "</div>"
      ],
      "text/plain": [
       "   YEAR      V\n",
       "0  1960  1.817\n",
       "1  1960  1.797\n",
       "2  1960  1.780\n",
       "3  1960  1.737\n",
       "4  1961  1.723"
      ]
     },
     "execution_count": 18,
     "metadata": {},
     "output_type": "execute_result"
    }
   ],
   "source": [
    "# Convert V MONTH to YEAR \n",
    "# Rename the YEAR\n",
    "data_v['DATE'] = pd.DatetimeIndex(data_v['DATE']).year\n",
    "data_v.columns = ['YEAR','V']\n",
    "data_v.head()"
   ]
  },
  {
   "cell_type": "code",
   "execution_count": 19,
   "metadata": {},
   "outputs": [
    {
     "data": {
      "text/html": [
       "<div>\n",
       "<style scoped>\n",
       "    .dataframe tbody tr th:only-of-type {\n",
       "        vertical-align: middle;\n",
       "    }\n",
       "\n",
       "    .dataframe tbody tr th {\n",
       "        vertical-align: top;\n",
       "    }\n",
       "\n",
       "    .dataframe thead th {\n",
       "        text-align: right;\n",
       "    }\n",
       "</style>\n",
       "<table border=\"1\" class=\"dataframe\">\n",
       "  <thead>\n",
       "    <tr style=\"text-align: right;\">\n",
       "      <th></th>\n",
       "      <th>V</th>\n",
       "    </tr>\n",
       "    <tr>\n",
       "      <th>YEAR</th>\n",
       "      <th></th>\n",
       "    </tr>\n",
       "  </thead>\n",
       "  <tbody>\n",
       "    <tr>\n",
       "      <th>1960</th>\n",
       "      <td>1.783</td>\n",
       "    </tr>\n",
       "    <tr>\n",
       "      <th>1961</th>\n",
       "      <td>1.730</td>\n",
       "    </tr>\n",
       "    <tr>\n",
       "      <th>1962</th>\n",
       "      <td>1.725</td>\n",
       "    </tr>\n",
       "    <tr>\n",
       "      <th>1963</th>\n",
       "      <td>1.679</td>\n",
       "    </tr>\n",
       "    <tr>\n",
       "      <th>1964</th>\n",
       "      <td>1.673</td>\n",
       "    </tr>\n",
       "  </tbody>\n",
       "</table>\n",
       "</div>"
      ],
      "text/plain": [
       "          V\n",
       "YEAR       \n",
       "1960  1.783\n",
       "1961  1.730\n",
       "1962  1.725\n",
       "1963  1.679\n",
       "1964  1.673"
      ]
     },
     "execution_count": 19,
     "metadata": {},
     "output_type": "execute_result"
    }
   ],
   "source": [
    "# Compute the Yearly data from quarterly data\n",
    "data_v = data_v.groupby(['YEAR']).mean()\n",
    "data_v = data_v.round(3)\n",
    "data_v.head()"
   ]
  },
  {
   "cell_type": "code",
   "execution_count": 20,
   "metadata": {},
   "outputs": [
    {
     "data": {
      "image/png": "[encoded data removed]",
      "text/plain": [
       "<Figure size 864x432 with 1 Axes>"
      ]
     },
     "metadata": {
      "needs_background": "light"
     },
     "output_type": "display_data"
    }
   ],
   "source": [
    "# Graphing the V\n",
    "ax_v1 = data_v.plot(title='US Velocity', legend=False, figsize=(12,6))\n",
    "ax_v1.set_xlabel('Year', fontsize=12)\n",
    "ax_v1.set_ylabel('Ratio', fontsize=12)\n",
    "plt.show()"
   ]
  },
  {
   "cell_type": "markdown",
   "metadata": {},
   "source": [
    "----------------------------------------------------------------------------------------------------------------------\n",
    "# Data Merge"
   ]
  },
  {
   "cell_type": "code",
   "execution_count": 21,
   "metadata": {},
   "outputs": [],
   "source": [
    "merge_data=pd.merge(data_g, data_c, how='inner', on='YEAR', left_on=None, right_on=None,\n",
    "         left_index=False, right_index=False, sort=True,\n",
    "         suffixes=('_x', '_y'), copy=True, indicator=False,\n",
    "         validate=None)\n",
    "\n"
   ]
  },
  {
   "cell_type": "code",
   "execution_count": 22,
   "metadata": {},
   "outputs": [],
   "source": [
    "merge_data=pd.merge(merge_data, data_m, how='inner', on='YEAR', left_on=None, right_on=None,\n",
    "         left_index=False, right_index=False, sort=True,\n",
    "         suffixes=('_x', '_y'), copy=True, indicator=False,\n",
    "         validate=None)"
   ]
  },
  {
   "cell_type": "code",
   "execution_count": 23,
   "metadata": {},
   "outputs": [],
   "source": [
    "merge_data=pd.merge(merge_data, data_v, how='inner', on='YEAR', left_on=None, right_on=None,\n",
    "         left_index=False, right_index=False, sort=True,\n",
    "         suffixes=('_x', '_y'), copy=True, indicator=False,\n",
    "         validate=None)"
   ]
  },
  {
   "cell_type": "code",
   "execution_count": 24,
   "metadata": {
    "scrolled": true
   },
   "outputs": [
    {
     "data": {
      "text/html": [
       "<div>\n",
       "<style scoped>\n",
       "    .dataframe tbody tr th:only-of-type {\n",
       "        vertical-align: middle;\n",
       "    }\n",
       "\n",
       "    .dataframe tbody tr th {\n",
       "        vertical-align: top;\n",
       "    }\n",
       "\n",
       "    .dataframe thead th {\n",
       "        text-align: right;\n",
       "    }\n",
       "</style>\n",
       "<table border=\"1\" class=\"dataframe\">\n",
       "  <thead>\n",
       "    <tr style=\"text-align: right;\">\n",
       "      <th></th>\n",
       "      <th>YEAR</th>\n",
       "      <th>US_GDP</th>\n",
       "      <th>US_CPI</th>\n",
       "      <th>M2</th>\n",
       "      <th>V</th>\n",
       "    </tr>\n",
       "  </thead>\n",
       "  <tbody>\n",
       "    <tr>\n",
       "      <th>0</th>\n",
       "      <td>1960</td>\n",
       "      <td>3259.971</td>\n",
       "      <td>29.585</td>\n",
       "      <td>304.283</td>\n",
       "      <td>1.783</td>\n",
       "    </tr>\n",
       "    <tr>\n",
       "      <th>1</th>\n",
       "      <td>1961</td>\n",
       "      <td>3343.546</td>\n",
       "      <td>29.902</td>\n",
       "      <td>324.833</td>\n",
       "      <td>1.730</td>\n",
       "    </tr>\n",
       "    <tr>\n",
       "      <th>2</th>\n",
       "      <td>1962</td>\n",
       "      <td>3548.409</td>\n",
       "      <td>30.253</td>\n",
       "      <td>350.100</td>\n",
       "      <td>1.725</td>\n",
       "    </tr>\n",
       "    <tr>\n",
       "      <th>3</th>\n",
       "      <td>1963</td>\n",
       "      <td>3702.944</td>\n",
       "      <td>30.633</td>\n",
       "      <td>379.608</td>\n",
       "      <td>1.679</td>\n",
       "    </tr>\n",
       "    <tr>\n",
       "      <th>4</th>\n",
       "      <td>1964</td>\n",
       "      <td>3916.280</td>\n",
       "      <td>31.038</td>\n",
       "      <td>409.317</td>\n",
       "      <td>1.673</td>\n",
       "    </tr>\n",
       "  </tbody>\n",
       "</table>\n",
       "</div>"
      ],
      "text/plain": [
       "   YEAR    US_GDP  US_CPI       M2      V\n",
       "0  1960  3259.971  29.585  304.283  1.783\n",
       "1  1961  3343.546  29.902  324.833  1.730\n",
       "2  1962  3548.409  30.253  350.100  1.725\n",
       "3  1963  3702.944  30.633  379.608  1.679\n",
       "4  1964  3916.280  31.038  409.317  1.673"
      ]
     },
     "execution_count": 24,
     "metadata": {},
     "output_type": "execute_result"
    }
   ],
   "source": [
    "merge_data.head()"
   ]
  },
  {
   "cell_type": "markdown",
   "metadata": {},
   "source": [
    "\n",
    "# Data Analysis\n",
    "\n",
    "In this section, we divide the merged data into two timeframes:\n",
    "\n",
    "1. the first one is from **1960-1979** \n",
    "2. the second one is from **2000-2019**\n",
    "\n",
    "Within these two timeframes, we are going to apply linear regression on the empirical data and compare our findings to the theoretical model **$$CPI = \\frac{(M2 * V)}{GDP}$$**\n"
   ]
  },
  {
   "cell_type": "markdown",
   "metadata": {},
   "source": [
    "## Timeframe 1: 1960-1979\n",
    "During the first timeframe, we **view v as a constant** and apply linear regression to confirm our hypothesis."
   ]
  },
  {
   "cell_type": "code",
   "execution_count": 25,
   "metadata": {},
   "outputs": [],
   "source": [
    "import statsmodels.api as sm"
   ]
  },
  {
   "cell_type": "code",
   "execution_count": 48,
   "metadata": {},
   "outputs": [
    {
     "data": {
      "text/html": [
       "<div>\n",
       "<style scoped>\n",
       "    .dataframe tbody tr th:only-of-type {\n",
       "        vertical-align: middle;\n",
       "    }\n",
       "\n",
       "    .dataframe tbody tr th {\n",
       "        vertical-align: top;\n",
       "    }\n",
       "\n",
       "    .dataframe thead th {\n",
       "        text-align: right;\n",
       "    }\n",
       "</style>\n",
       "<table border=\"1\" class=\"dataframe\">\n",
       "  <thead>\n",
       "    <tr style=\"text-align: right;\">\n",
       "      <th></th>\n",
       "      <th>YEAR</th>\n",
       "      <th>US_GDP</th>\n",
       "      <th>US_CPI</th>\n",
       "      <th>M2</th>\n",
       "      <th>V</th>\n",
       "    </tr>\n",
       "  </thead>\n",
       "  <tbody>\n",
       "    <tr>\n",
       "      <th>0</th>\n",
       "      <td>1960</td>\n",
       "      <td>3259.971</td>\n",
       "      <td>29.585</td>\n",
       "      <td>304.283</td>\n",
       "      <td>1.783</td>\n",
       "    </tr>\n",
       "    <tr>\n",
       "      <th>1</th>\n",
       "      <td>1961</td>\n",
       "      <td>3343.546</td>\n",
       "      <td>29.902</td>\n",
       "      <td>324.833</td>\n",
       "      <td>1.730</td>\n",
       "    </tr>\n",
       "    <tr>\n",
       "      <th>2</th>\n",
       "      <td>1962</td>\n",
       "      <td>3548.409</td>\n",
       "      <td>30.253</td>\n",
       "      <td>350.100</td>\n",
       "      <td>1.725</td>\n",
       "    </tr>\n",
       "    <tr>\n",
       "      <th>3</th>\n",
       "      <td>1963</td>\n",
       "      <td>3702.944</td>\n",
       "      <td>30.633</td>\n",
       "      <td>379.608</td>\n",
       "      <td>1.679</td>\n",
       "    </tr>\n",
       "    <tr>\n",
       "      <th>4</th>\n",
       "      <td>1964</td>\n",
       "      <td>3916.280</td>\n",
       "      <td>31.038</td>\n",
       "      <td>409.317</td>\n",
       "      <td>1.673</td>\n",
       "    </tr>\n",
       "  </tbody>\n",
       "</table>\n",
       "</div>"
      ],
      "text/plain": [
       "   YEAR    US_GDP  US_CPI       M2      V\n",
       "0  1960  3259.971  29.585  304.283  1.783\n",
       "1  1961  3343.546  29.902  324.833  1.730\n",
       "2  1962  3548.409  30.253  350.100  1.725\n",
       "3  1963  3702.944  30.633  379.608  1.679\n",
       "4  1964  3916.280  31.038  409.317  1.673"
      ]
     },
     "execution_count": 48,
     "metadata": {},
     "output_type": "execute_result"
    }
   ],
   "source": [
    "tf_1 = merge_data.loc[0:19]\n",
    "tf_1 = tf_1.reset_index(drop = True)\n",
    "tf_1.head()\n"
   ]
  },
  {
   "cell_type": "code",
   "execution_count": 49,
   "metadata": {},
   "outputs": [
    {
     "data": {
      "image/png": "[encoded data removed]",
      "text/plain": [
       "<Figure size 1440x720 with 4 Axes>"
      ]
     },
     "metadata": {
      "needs_background": "light"
     },
     "output_type": "display_data"
    }
   ],
   "source": [
    "fig, axes = plt.subplots(2,2,figsize=(20,10))\n",
    "for iter__,ax in enumerate(axes.flatten()):\n",
    "    index_name = tf_1.columns[iter__+1]\n",
    "    ax.plot(tf_1[index_name])\n",
    "    ax.set_title(index_name)\n",
    "    ax.set_xticks(range(len(tf_1['YEAR'])))\n",
    "    ax.set_xticklabels(tf_1['YEAR'], rotation = 30)\n",
    "plt.suptitle('Data from 1960 - 1980', fontsize=24)\n",
    "plt.show()"
   ]
  },
  {
   "cell_type": "code",
   "execution_count": 51,
   "metadata": {
    "scrolled": true
   },
   "outputs": [
    {
     "name": "stdout",
     "output_type": "stream",
     "text": [
      "                            OLS Regression Results                            \n",
      "==============================================================================\n",
      "Dep. Variable:                      V   R-squared:                       0.143\n",
      "Model:                            OLS   Adj. R-squared:                  0.095\n",
      "Method:                 Least Squares   F-statistic:                     2.997\n",
      "Date:                Tue, 08 Dec 2020   Prob (F-statistic):              0.100\n",
      "Time:                        11:57:54   Log-Likelihood:                 36.900\n",
      "No. Observations:                  20   AIC:                            -69.80\n",
      "Df Residuals:                      18   BIC:                            -67.81\n",
      "Df Model:                           1                                         \n",
      "Covariance Type:            nonrobust                                         \n",
      "==============================================================================\n",
      "                 coef    std err          t      P>|t|      [0.025      0.975]\n",
      "------------------------------------------------------------------------------\n",
      "const         -3.5969      3.078     -1.168      0.258     -10.064       2.870\n",
      "YEAR           0.0027      0.002      1.731      0.100      -0.001       0.006\n",
      "==============================================================================\n",
      "Omnibus:                        1.845   Durbin-Watson:                   0.929\n",
      "Prob(Omnibus):                  0.398   Jarque-Bera (JB):                1.398\n",
      "Skew:                           0.623   Prob(JB):                        0.497\n",
      "Kurtosis:                       2.649   Cond. No.                     6.73e+05\n",
      "==============================================================================\n",
      "\n",
      "Warnings:\n",
      "[1] Standard Errors assume that the covariance matrix of the errors is correctly specified.\n",
      "[2] The condition number is large, 6.73e+05. This might indicate that there are\n",
      "strong multicollinearity or other numerical problems.\n"
     ]
    }
   ],
   "source": [
    "tf_1['const'] = 1\n",
    "reg1 = sm.OLS(endog=tf_1['V'], exog=tf_1[['const', 'YEAR']], missing='drop')\n",
    "type(reg1)\n",
    "results = reg1.fit()\n",
    "type(results)\n",
    "print(results.summary())"
   ]
  },
  {
   "cell_type": "markdown",
   "metadata": {},
   "source": [
    "### Discussion: \n",
    "We can see that the estimation of YEAR is within 95% confidence interval [-0.001, 0.006], which means that we don't have enough evidence to reject the NULL hypothesis that YEAR has no relationship with V.\n",
    "\n",
    "We can also see that a linear relationship does not fit the model that well from $$R^2=0.143$$\n",
    "\n",
    "The result shows that **V can be regarded as constant**. \n",
    "\n",
    "----------------------------------------------------------------------------------------------------------------------"
   ]
  },
  {
   "cell_type": "code",
   "execution_count": 52,
   "metadata": {},
   "outputs": [
    {
     "data": {
      "image/png": "[encoded data removed]",
      "text/plain": [
       "<Figure size 864x432 with 1 Axes>"
      ]
     },
     "metadata": {
      "needs_background": "light"
     },
     "output_type": "display_data"
    }
   ],
   "source": [
    "# Plot M2 and US_CPI\n",
    "x = tf_1['M2']\n",
    "y = tf_1['US_CPI']\n",
    "labels = tf_1['YEAR']\n",
    "\n",
    "fig, ax = plt.subplots(figsize = (12,6))\n",
    "ax.scatter(x, y, marker='*')\n",
    "for i, label in enumerate(labels):\n",
    "    ax.annotate(label, (x.iloc[i], y.iloc[i]))\n",
    "    \n",
    "# Fit a linear trend line\n",
    "ax.plot(np.unique(x),\n",
    "         np.poly1d(np.polyfit(x, y, 1))(np.unique(x)),\n",
    "         color='black')\n",
    "ax.set_xlabel('M2')\n",
    "ax.set_ylabel('US_CPI')\n",
    "ax.set_title('Figure 2: OLS between M2 and US_CPI')\n",
    "plt.show()\n",
    "\n"
   ]
  },
  {
   "cell_type": "markdown",
   "metadata": {},
   "source": [
    "### Introducing log variables\n",
    "\n",
    "The original model is non-linear: **$$CPI = \\frac{(M2 * V)}{GDP}$$**\n",
    "Therefore, we need to **convert all variables to log form** before applying linear regression on them."
   ]
  },
  {
   "cell_type": "code",
   "execution_count": 53,
   "metadata": {},
   "outputs": [
    {
     "data": {
      "text/html": [
       "<div>\n",
       "<style scoped>\n",
       "    .dataframe tbody tr th:only-of-type {\n",
       "        vertical-align: middle;\n",
       "    }\n",
       "\n",
       "    .dataframe tbody tr th {\n",
       "        vertical-align: top;\n",
       "    }\n",
       "\n",
       "    .dataframe thead th {\n",
       "        text-align: right;\n",
       "    }\n",
       "</style>\n",
       "<table border=\"1\" class=\"dataframe\">\n",
       "  <thead>\n",
       "    <tr style=\"text-align: right;\">\n",
       "      <th></th>\n",
       "      <th>YEAR</th>\n",
       "      <th>US_GDP</th>\n",
       "      <th>US_CPI</th>\n",
       "      <th>M2</th>\n",
       "      <th>V</th>\n",
       "      <th>const</th>\n",
       "      <th>log_GDP</th>\n",
       "      <th>log_CPI</th>\n",
       "      <th>log_M2</th>\n",
       "      <th>log_V</th>\n",
       "    </tr>\n",
       "  </thead>\n",
       "  <tbody>\n",
       "    <tr>\n",
       "      <th>0</th>\n",
       "      <td>1960</td>\n",
       "      <td>3259.971</td>\n",
       "      <td>29.585</td>\n",
       "      <td>304.283</td>\n",
       "      <td>1.783</td>\n",
       "      <td>1</td>\n",
       "      <td>8.089474</td>\n",
       "      <td>3.387267</td>\n",
       "      <td>5.717958</td>\n",
       "      <td>0.578297</td>\n",
       "    </tr>\n",
       "    <tr>\n",
       "      <th>1</th>\n",
       "      <td>1961</td>\n",
       "      <td>3343.546</td>\n",
       "      <td>29.902</td>\n",
       "      <td>324.833</td>\n",
       "      <td>1.730</td>\n",
       "      <td>1</td>\n",
       "      <td>8.114787</td>\n",
       "      <td>3.397925</td>\n",
       "      <td>5.783311</td>\n",
       "      <td>0.548121</td>\n",
       "    </tr>\n",
       "    <tr>\n",
       "      <th>2</th>\n",
       "      <td>1962</td>\n",
       "      <td>3548.409</td>\n",
       "      <td>30.253</td>\n",
       "      <td>350.100</td>\n",
       "      <td>1.725</td>\n",
       "      <td>1</td>\n",
       "      <td>8.174255</td>\n",
       "      <td>3.409595</td>\n",
       "      <td>5.858219</td>\n",
       "      <td>0.545227</td>\n",
       "    </tr>\n",
       "    <tr>\n",
       "      <th>3</th>\n",
       "      <td>1963</td>\n",
       "      <td>3702.944</td>\n",
       "      <td>30.633</td>\n",
       "      <td>379.608</td>\n",
       "      <td>1.679</td>\n",
       "      <td>1</td>\n",
       "      <td>8.216883</td>\n",
       "      <td>3.422078</td>\n",
       "      <td>5.939139</td>\n",
       "      <td>0.518198</td>\n",
       "    </tr>\n",
       "    <tr>\n",
       "      <th>4</th>\n",
       "      <td>1964</td>\n",
       "      <td>3916.280</td>\n",
       "      <td>31.038</td>\n",
       "      <td>409.317</td>\n",
       "      <td>1.673</td>\n",
       "      <td>1</td>\n",
       "      <td>8.272898</td>\n",
       "      <td>3.435212</td>\n",
       "      <td>6.014490</td>\n",
       "      <td>0.514618</td>\n",
       "    </tr>\n",
       "  </tbody>\n",
       "</table>\n",
       "</div>"
      ],
      "text/plain": [
       "   YEAR    US_GDP  US_CPI       M2      V  const   log_GDP   log_CPI  \\\n",
       "0  1960  3259.971  29.585  304.283  1.783      1  8.089474  3.387267   \n",
       "1  1961  3343.546  29.902  324.833  1.730      1  8.114787  3.397925   \n",
       "2  1962  3548.409  30.253  350.100  1.725      1  8.174255  3.409595   \n",
       "3  1963  3702.944  30.633  379.608  1.679      1  8.216883  3.422078   \n",
       "4  1964  3916.280  31.038  409.317  1.673      1  8.272898  3.435212   \n",
       "\n",
       "     log_M2     log_V  \n",
       "0  5.717958  0.578297  \n",
       "1  5.783311  0.548121  \n",
       "2  5.858219  0.545227  \n",
       "3  5.939139  0.518198  \n",
       "4  6.014490  0.514618  "
      ]
     },
     "execution_count": 53,
     "metadata": {},
     "output_type": "execute_result"
    }
   ],
   "source": [
    "tf_1['log_GDP'] = np.log(tf_1['US_GDP'])\n",
    "tf_1['log_CPI'] = np.log(tf_1['US_CPI'])\n",
    "tf_1['log_M2'] = np.log(tf_1['M2'])\n",
    "tf_1['log_V'] = np.log(tf_1['V'])\n",
    "tf_1.head()"
   ]
  },
  {
   "cell_type": "code",
   "execution_count": 54,
   "metadata": {},
   "outputs": [
    {
     "name": "stdout",
     "output_type": "stream",
     "text": [
      "                            OLS Regression Results                            \n",
      "==============================================================================\n",
      "Dep. Variable:                log_CPI   R-squared:                       0.990\n",
      "Model:                            OLS   Adj. R-squared:                  0.989\n",
      "Method:                 Least Squares   F-statistic:                     842.6\n",
      "Date:                Tue, 08 Dec 2020   Prob (F-statistic):           9.89e-18\n",
      "Time:                        11:57:59   Log-Likelihood:                 43.045\n",
      "No. Observations:                  20   AIC:                            -80.09\n",
      "Df Residuals:                      17   BIC:                            -77.10\n",
      "Df Model:                           2                                         \n",
      "Covariance Type:            nonrobust                                         \n",
      "==============================================================================\n",
      "                 coef    std err          t      P>|t|      [0.025      0.975]\n",
      "------------------------------------------------------------------------------\n",
      "const          6.5497      0.910      7.200      0.000       4.630       8.469\n",
      "log_M2         1.1276      0.075     14.999      0.000       0.969       1.286\n",
      "log_GDP       -1.1929      0.163     -7.329      0.000      -1.536      -0.850\n",
      "==============================================================================\n",
      "Omnibus:                        1.980   Durbin-Watson:                   1.025\n",
      "Prob(Omnibus):                  0.372   Jarque-Bera (JB):                1.187\n",
      "Skew:                           0.596   Prob(JB):                        0.552\n",
      "Kurtosis:                       2.951   Cond. No.                     1.46e+03\n",
      "==============================================================================\n",
      "\n",
      "Warnings:\n",
      "[1] Standard Errors assume that the covariance matrix of the errors is correctly specified.\n",
      "[2] The condition number is large, 1.46e+03. This might indicate that there are\n",
      "strong multicollinearity or other numerical problems.\n"
     ]
    }
   ],
   "source": [
    "reg2 = sm.OLS(endog=tf_1['log_CPI'], exog=tf_1[['const', 'log_M2','log_GDP']], \\\n",
    "    missing='drop')\n",
    "results2 = reg2.fit()\n",
    "print(results2.summary())"
   ]
  },
  {
   "cell_type": "markdown",
   "metadata": {},
   "source": [
    "### Discussion\n",
    "log_M2 is positive correlated with US_CPI while log_GDP is negatively correlated with US_CPI, which confirms our model."
   ]
  },
  {
   "cell_type": "markdown",
   "metadata": {},
   "source": [
    "----------------------------------------------------------------------------------------------------------------------\n",
    "\n",
    "\n",
    "\n",
    "## Timeframe 2: 2000-2019"
   ]
  },
  {
   "cell_type": "code",
   "execution_count": 39,
   "metadata": {},
   "outputs": [
    {
     "data": {
      "text/html": [
       "<div>\n",
       "<style scoped>\n",
       "    .dataframe tbody tr th:only-of-type {\n",
       "        vertical-align: middle;\n",
       "    }\n",
       "\n",
       "    .dataframe tbody tr th {\n",
       "        vertical-align: top;\n",
       "    }\n",
       "\n",
       "    .dataframe thead th {\n",
       "        text-align: right;\n",
       "    }\n",
       "</style>\n",
       "<table border=\"1\" class=\"dataframe\">\n",
       "  <thead>\n",
       "    <tr style=\"text-align: right;\">\n",
       "      <th></th>\n",
       "      <th>YEAR</th>\n",
       "      <th>US_GDP</th>\n",
       "      <th>US_CPI</th>\n",
       "      <th>M2</th>\n",
       "      <th>V</th>\n",
       "    </tr>\n",
       "  </thead>\n",
       "  <tbody>\n",
       "    <tr>\n",
       "      <th>0</th>\n",
       "      <td>2000</td>\n",
       "      <td>13130.987</td>\n",
       "      <td>172.192</td>\n",
       "      <td>4779.350</td>\n",
       "      <td>2.145</td>\n",
       "    </tr>\n",
       "    <tr>\n",
       "      <th>1</th>\n",
       "      <td>2001</td>\n",
       "      <td>13262.079</td>\n",
       "      <td>177.042</td>\n",
       "      <td>5191.825</td>\n",
       "      <td>2.039</td>\n",
       "    </tr>\n",
       "    <tr>\n",
       "      <th>2</th>\n",
       "      <td>2002</td>\n",
       "      <td>13493.064</td>\n",
       "      <td>179.867</td>\n",
       "      <td>5579.200</td>\n",
       "      <td>1.960</td>\n",
       "    </tr>\n",
       "    <tr>\n",
       "      <th>3</th>\n",
       "      <td>2003</td>\n",
       "      <td>13879.129</td>\n",
       "      <td>184.000</td>\n",
       "      <td>5968.833</td>\n",
       "      <td>1.920</td>\n",
       "    </tr>\n",
       "    <tr>\n",
       "      <th>4</th>\n",
       "      <td>2004</td>\n",
       "      <td>14406.382</td>\n",
       "      <td>188.908</td>\n",
       "      <td>6253.625</td>\n",
       "      <td>1.953</td>\n",
       "    </tr>\n",
       "    <tr>\n",
       "      <th>5</th>\n",
       "      <td>2005</td>\n",
       "      <td>14912.509</td>\n",
       "      <td>195.267</td>\n",
       "      <td>6521.608</td>\n",
       "      <td>1.999</td>\n",
       "    </tr>\n",
       "    <tr>\n",
       "      <th>6</th>\n",
       "      <td>2006</td>\n",
       "      <td>15338.257</td>\n",
       "      <td>201.558</td>\n",
       "      <td>6863.550</td>\n",
       "      <td>2.013</td>\n",
       "    </tr>\n",
       "    <tr>\n",
       "      <th>7</th>\n",
       "      <td>2007</td>\n",
       "      <td>15626.029</td>\n",
       "      <td>207.344</td>\n",
       "      <td>7283.975</td>\n",
       "      <td>1.984</td>\n",
       "    </tr>\n",
       "    <tr>\n",
       "      <th>8</th>\n",
       "      <td>2008</td>\n",
       "      <td>15604.687</td>\n",
       "      <td>215.254</td>\n",
       "      <td>7777.517</td>\n",
       "      <td>1.892</td>\n",
       "    </tr>\n",
       "    <tr>\n",
       "      <th>9</th>\n",
       "      <td>2009</td>\n",
       "      <td>15208.834</td>\n",
       "      <td>214.565</td>\n",
       "      <td>8403.717</td>\n",
       "      <td>1.719</td>\n",
       "    </tr>\n",
       "    <tr>\n",
       "      <th>10</th>\n",
       "      <td>2010</td>\n",
       "      <td>15598.753</td>\n",
       "      <td>218.076</td>\n",
       "      <td>8613.675</td>\n",
       "      <td>1.741</td>\n",
       "    </tr>\n",
       "    <tr>\n",
       "      <th>11</th>\n",
       "      <td>2011</td>\n",
       "      <td>15840.664</td>\n",
       "      <td>224.923</td>\n",
       "      <td>9243.700</td>\n",
       "      <td>1.682</td>\n",
       "    </tr>\n",
       "    <tr>\n",
       "      <th>12</th>\n",
       "      <td>2012</td>\n",
       "      <td>16197.007</td>\n",
       "      <td>229.586</td>\n",
       "      <td>10038.542</td>\n",
       "      <td>1.614</td>\n",
       "    </tr>\n",
       "    <tr>\n",
       "      <th>13</th>\n",
       "      <td>2013</td>\n",
       "      <td>16495.369</td>\n",
       "      <td>232.952</td>\n",
       "      <td>10714.958</td>\n",
       "      <td>1.566</td>\n",
       "    </tr>\n",
       "    <tr>\n",
       "      <th>14</th>\n",
       "      <td>2014</td>\n",
       "      <td>16912.038</td>\n",
       "      <td>236.715</td>\n",
       "      <td>11376.750</td>\n",
       "      <td>1.540</td>\n",
       "    </tr>\n",
       "    <tr>\n",
       "      <th>15</th>\n",
       "      <td>2015</td>\n",
       "      <td>17432.170</td>\n",
       "      <td>237.002</td>\n",
       "      <td>12033.425</td>\n",
       "      <td>1.516</td>\n",
       "    </tr>\n",
       "    <tr>\n",
       "      <th>16</th>\n",
       "      <td>2016</td>\n",
       "      <td>17730.509</td>\n",
       "      <td>239.989</td>\n",
       "      <td>12850.650</td>\n",
       "      <td>1.459</td>\n",
       "    </tr>\n",
       "    <tr>\n",
       "      <th>17</th>\n",
       "      <td>2017</td>\n",
       "      <td>18144.105</td>\n",
       "      <td>245.121</td>\n",
       "      <td>13583.367</td>\n",
       "      <td>1.439</td>\n",
       "    </tr>\n",
       "    <tr>\n",
       "      <th>18</th>\n",
       "      <td>2018</td>\n",
       "      <td>18687.786</td>\n",
       "      <td>251.101</td>\n",
       "      <td>14106.583</td>\n",
       "      <td>1.461</td>\n",
       "    </tr>\n",
       "    <tr>\n",
       "      <th>19</th>\n",
       "      <td>2019</td>\n",
       "      <td>19091.662</td>\n",
       "      <td>255.651</td>\n",
       "      <td>14827.733</td>\n",
       "      <td>1.446</td>\n",
       "    </tr>\n",
       "  </tbody>\n",
       "</table>\n",
       "</div>"
      ],
      "text/plain": [
       "    YEAR     US_GDP   US_CPI         M2      V\n",
       "0   2000  13130.987  172.192   4779.350  2.145\n",
       "1   2001  13262.079  177.042   5191.825  2.039\n",
       "2   2002  13493.064  179.867   5579.200  1.960\n",
       "3   2003  13879.129  184.000   5968.833  1.920\n",
       "4   2004  14406.382  188.908   6253.625  1.953\n",
       "5   2005  14912.509  195.267   6521.608  1.999\n",
       "6   2006  15338.257  201.558   6863.550  2.013\n",
       "7   2007  15626.029  207.344   7283.975  1.984\n",
       "8   2008  15604.687  215.254   7777.517  1.892\n",
       "9   2009  15208.834  214.565   8403.717  1.719\n",
       "10  2010  15598.753  218.076   8613.675  1.741\n",
       "11  2011  15840.664  224.923   9243.700  1.682\n",
       "12  2012  16197.007  229.586  10038.542  1.614\n",
       "13  2013  16495.369  232.952  10714.958  1.566\n",
       "14  2014  16912.038  236.715  11376.750  1.540\n",
       "15  2015  17432.170  237.002  12033.425  1.516\n",
       "16  2016  17730.509  239.989  12850.650  1.459\n",
       "17  2017  18144.105  245.121  13583.367  1.439\n",
       "18  2018  18687.786  251.101  14106.583  1.461\n",
       "19  2019  19091.662  255.651  14827.733  1.446"
      ]
     },
     "execution_count": 39,
     "metadata": {},
     "output_type": "execute_result"
    }
   ],
   "source": [
    "# timeframe 2 data\n",
    "tf_2 = merge_data.loc[40:59]\n",
    "tf_2 = tf_2.reset_index(drop = True)\n",
    "tf_2 "
   ]
  },
  {
   "cell_type": "code",
   "execution_count": 40,
   "metadata": {},
   "outputs": [
    {
     "data": {
      "image/png": "[encoded data removed]",
      "text/plain": [
       "<Figure size 1440x720 with 4 Axes>"
      ]
     },
     "metadata": {
      "needs_background": "light"
     },
     "output_type": "display_data"
    }
   ],
   "source": [
    "fig, axes = plt.subplots(2,2,figsize=(20,10))\n",
    "for iter__,ax in enumerate(axes.flatten()):\n",
    "    index_name = tf_2.columns[iter__+1]\n",
    "    ax.plot(tf_2[index_name])\n",
    "    ax.set_title(index_name)\n",
    "    ax.set_xticks(range(len(tf_2['YEAR'])))\n",
    "    ax.set_xticklabels(tf_2['YEAR'], rotation = 40)\n",
    "plt.suptitle('Data from 2000 - 2019', fontsize=24)\n",
    "plt.show()"
   ]
  },
  {
   "cell_type": "code",
   "execution_count": 42,
   "metadata": {},
   "outputs": [
    {
     "name": "stdout",
     "output_type": "stream",
     "text": [
      "                            OLS Regression Results                            \n",
      "==============================================================================\n",
      "Dep. Variable:                      V   R-squared:                       0.927\n",
      "Model:                            OLS   Adj. R-squared:                  0.922\n",
      "Method:                 Least Squares   F-statistic:                     226.9\n",
      "Date:                Tue, 08 Dec 2020   Prob (F-statistic):           1.20e-11\n",
      "Time:                        11:53:58   Log-Likelihood:                 26.973\n",
      "No. Observations:                  20   AIC:                            -49.95\n",
      "Df Residuals:                      18   BIC:                            -47.96\n",
      "Df Model:                           1                                         \n",
      "Covariance Type:            nonrobust                                         \n",
      "==============================================================================\n",
      "                 coef    std err          t      P>|t|      [0.025      0.975]\n",
      "------------------------------------------------------------------------------\n",
      "const         79.4752      5.159     15.404      0.000      68.636      90.315\n",
      "YEAR          -0.0387      0.003    -15.064      0.000      -0.044      -0.033\n",
      "==============================================================================\n",
      "Omnibus:                        2.259   Durbin-Watson:                   0.666\n",
      "Prob(Omnibus):                  0.323   Jarque-Bera (JB):                1.862\n",
      "Skew:                           0.692   Prob(JB):                        0.394\n",
      "Kurtosis:                       2.436   Cond. No.                     7.00e+05\n",
      "==============================================================================\n",
      "\n",
      "Warnings:\n",
      "[1] Standard Errors assume that the covariance matrix of the errors is correctly specified.\n",
      "[2] The condition number is large,  7e+05. This might indicate that there are\n",
      "strong multicollinearity or other numerical problems.\n"
     ]
    }
   ],
   "source": [
    "# Conduct Linear Regression to confirm the relationship between V and Year\n",
    "tf_2['const'] = 1\n",
    "reg3 = sm.OLS(endog=tf_2['V'], exog=tf_2[['const', 'YEAR']], missing='drop')\n",
    "results = reg3.fit()\n",
    "print(results.summary())"
   ]
  },
  {
   "cell_type": "markdown",
   "metadata": {},
   "source": [
    "### Discussion: \n",
    "We can see that the estimation of YEAR is within 95% confidence interval [-0.044, 0.-0,033], which means that we have enough evidence to reject the NULL hypothesis that YEAR has no relationship with V.\n",
    "\n",
    "The result shows that **V is NEGATIVELY correlated with Year**. \n",
    "\n",
    "----------------------------------------------------------------------------------------------------------------------"
   ]
  },
  {
   "cell_type": "code",
   "execution_count": 43,
   "metadata": {},
   "outputs": [
    {
     "data": {
      "image/png": "[encoded data removed]",
      "text/plain": [
       "<Figure size 864x432 with 1 Axes>"
      ]
     },
     "metadata": {
      "needs_background": "light"
     },
     "output_type": "display_data"
    }
   ],
   "source": [
    "# Plot M2 and US_CPI\n",
    "\n",
    "x = tf_2['M2']\n",
    "y = tf_2['US_CPI']\n",
    "labels = tf_2['YEAR']\n",
    "\n",
    "fig, ax = plt.subplots(figsize = (12,6))\n",
    "ax.scatter(x, y, marker='*')\n",
    "for i, label in enumerate(labels):\n",
    "    ax.annotate(label, (x.iloc[i], y.iloc[i]))\n",
    "    \n",
    "\n",
    "# Fit a linear trend line\n",
    "ax.plot(np.unique(x),\n",
    "         np.poly1d(np.polyfit(x, y, 1))(np.unique(x)),\n",
    "         color='black')\n",
    "ax.set_xlabel('M2')\n",
    "ax.set_ylabel('US_CPI')\n",
    "ax.set_title('Figure 2: OLS between M2 and US_CPI')\n",
    "plt.show()\n",
    "\n"
   ]
  },
  {
   "cell_type": "code",
   "execution_count": 44,
   "metadata": {},
   "outputs": [
    {
     "data": {
      "text/html": [
       "<div>\n",
       "<style scoped>\n",
       "    .dataframe tbody tr th:only-of-type {\n",
       "        vertical-align: middle;\n",
       "    }\n",
       "\n",
       "    .dataframe tbody tr th {\n",
       "        vertical-align: top;\n",
       "    }\n",
       "\n",
       "    .dataframe thead th {\n",
       "        text-align: right;\n",
       "    }\n",
       "</style>\n",
       "<table border=\"1\" class=\"dataframe\">\n",
       "  <thead>\n",
       "    <tr style=\"text-align: right;\">\n",
       "      <th></th>\n",
       "      <th>YEAR</th>\n",
       "      <th>US_GDP</th>\n",
       "      <th>US_CPI</th>\n",
       "      <th>M2</th>\n",
       "      <th>V</th>\n",
       "      <th>const</th>\n",
       "      <th>log_GDP</th>\n",
       "      <th>log_CPI</th>\n",
       "      <th>log_M2</th>\n",
       "      <th>log_V</th>\n",
       "    </tr>\n",
       "  </thead>\n",
       "  <tbody>\n",
       "    <tr>\n",
       "      <th>0</th>\n",
       "      <td>2000</td>\n",
       "      <td>13130.987</td>\n",
       "      <td>172.192</td>\n",
       "      <td>4779.350</td>\n",
       "      <td>2.145</td>\n",
       "      <td>1</td>\n",
       "      <td>9.482730</td>\n",
       "      <td>5.148610</td>\n",
       "      <td>8.472060</td>\n",
       "      <td>0.763140</td>\n",
       "    </tr>\n",
       "    <tr>\n",
       "      <th>1</th>\n",
       "      <td>2001</td>\n",
       "      <td>13262.079</td>\n",
       "      <td>177.042</td>\n",
       "      <td>5191.825</td>\n",
       "      <td>2.039</td>\n",
       "      <td>1</td>\n",
       "      <td>9.492664</td>\n",
       "      <td>5.176387</td>\n",
       "      <td>8.554841</td>\n",
       "      <td>0.712459</td>\n",
       "    </tr>\n",
       "    <tr>\n",
       "      <th>2</th>\n",
       "      <td>2002</td>\n",
       "      <td>13493.064</td>\n",
       "      <td>179.867</td>\n",
       "      <td>5579.200</td>\n",
       "      <td>1.960</td>\n",
       "      <td>1</td>\n",
       "      <td>9.509931</td>\n",
       "      <td>5.192218</td>\n",
       "      <td>8.626801</td>\n",
       "      <td>0.672944</td>\n",
       "    </tr>\n",
       "    <tr>\n",
       "      <th>3</th>\n",
       "      <td>2003</td>\n",
       "      <td>13879.129</td>\n",
       "      <td>184.000</td>\n",
       "      <td>5968.833</td>\n",
       "      <td>1.920</td>\n",
       "      <td>1</td>\n",
       "      <td>9.538141</td>\n",
       "      <td>5.214936</td>\n",
       "      <td>8.694307</td>\n",
       "      <td>0.652325</td>\n",
       "    </tr>\n",
       "    <tr>\n",
       "      <th>4</th>\n",
       "      <td>2004</td>\n",
       "      <td>14406.382</td>\n",
       "      <td>188.908</td>\n",
       "      <td>6253.625</td>\n",
       "      <td>1.953</td>\n",
       "      <td>1</td>\n",
       "      <td>9.575427</td>\n",
       "      <td>5.241260</td>\n",
       "      <td>8.740917</td>\n",
       "      <td>0.669367</td>\n",
       "    </tr>\n",
       "  </tbody>\n",
       "</table>\n",
       "</div>"
      ],
      "text/plain": [
       "   YEAR     US_GDP   US_CPI        M2      V  const   log_GDP   log_CPI  \\\n",
       "0  2000  13130.987  172.192  4779.350  2.145      1  9.482730  5.148610   \n",
       "1  2001  13262.079  177.042  5191.825  2.039      1  9.492664  5.176387   \n",
       "2  2002  13493.064  179.867  5579.200  1.960      1  9.509931  5.192218   \n",
       "3  2003  13879.129  184.000  5968.833  1.920      1  9.538141  5.214936   \n",
       "4  2004  14406.382  188.908  6253.625  1.953      1  9.575427  5.241260   \n",
       "\n",
       "     log_M2     log_V  \n",
       "0  8.472060  0.763140  \n",
       "1  8.554841  0.712459  \n",
       "2  8.626801  0.672944  \n",
       "3  8.694307  0.652325  \n",
       "4  8.740917  0.669367  "
      ]
     },
     "execution_count": 44,
     "metadata": {},
     "output_type": "execute_result"
    }
   ],
   "source": [
    "tf_2['log_GDP'] = np.log(tf_2['US_GDP'])\n",
    "tf_2['log_CPI'] = np.log(tf_2['US_CPI'])\n",
    "tf_2['log_M2'] = np.log(tf_2['M2'])\n",
    "tf_2['log_V'] = np.log(tf_2['V'])\n",
    "tf_2.head()"
   ]
  },
  {
   "cell_type": "markdown",
   "metadata": {},
   "source": [
    "### Introduce log_V \n",
    "We add log_V as one of the variables in the linear regression model because money velocity V is not constant anymore during timeframe 2"
   ]
  },
  {
   "cell_type": "code",
   "execution_count": 45,
   "metadata": {},
   "outputs": [
    {
     "name": "stdout",
     "output_type": "stream",
     "text": [
      "                            OLS Regression Results                            \n",
      "==============================================================================\n",
      "Dep. Variable:                log_CPI   R-squared:                       0.999\n",
      "Model:                            OLS   Adj. R-squared:                  0.999\n",
      "Method:                 Least Squares   F-statistic:                     4109.\n",
      "Date:                Tue, 08 Dec 2020   Prob (F-statistic):           1.34e-22\n",
      "Time:                        11:54:01   Log-Likelihood:                 83.989\n",
      "No. Observations:                  20   AIC:                            -158.0\n",
      "Df Residuals:                      15   BIC:                            -153.0\n",
      "Df Model:                           4                                         \n",
      "Covariance Type:            nonrobust                                         \n",
      "==============================================================================\n",
      "                 coef    std err          t      P>|t|      [0.025      0.975]\n",
      "------------------------------------------------------------------------------\n",
      "const         16.4622      9.835      1.674      0.115      -4.500      37.424\n",
      "log_M2         1.4754      0.127     11.650      0.000       1.205       1.745\n",
      "log_GDP       -1.6482      0.107    -15.388      0.000      -1.876      -1.420\n",
      "log_V          1.4478      0.084     17.163      0.000       1.268       1.628\n",
      "YEAR          -0.0046      0.005     -0.878      0.394      -0.016       0.007\n",
      "==============================================================================\n",
      "Omnibus:                        2.100   Durbin-Watson:                   2.279\n",
      "Prob(Omnibus):                  0.350   Jarque-Bera (JB):                0.719\n",
      "Skew:                          -0.364   Prob(JB):                        0.698\n",
      "Kurtosis:                       3.577   Cond. No.                     2.11e+07\n",
      "==============================================================================\n",
      "\n",
      "Warnings:\n",
      "[1] Standard Errors assume that the covariance matrix of the errors is correctly specified.\n",
      "[2] The condition number is large, 2.11e+07. This might indicate that there are\n",
      "strong multicollinearity or other numerical problems.\n"
     ]
    }
   ],
   "source": [
    "reg4 = sm.OLS(endog=tf_2['log_CPI'], exog=tf_2[['const', 'log_M2','log_GDP', 'log_V']], missing='drop')\n",
    "type(reg4)\n",
    "results2 = reg4.fit()\n",
    "type(results2)\n",
    "print(results2.summary())"
   ]
  },
  {
   "cell_type": "markdown",
   "metadata": {},
   "source": [
    "----------------------------------------------------------------------------------------------------------------------\n",
    "\n",
    "\n",
    "# Conclusion & Discussion\n",
    "\n",
    "### Models:\n",
    "**Timeframe 1 (1960-1979):** $\\hat{Log(CPI)} = 6.5497 + 1.1276*\\hat{Log(M2)} - 1.1929*\\hat{Log(GDP)}$\\\n",
    "**Timeframe 2 (2000-2019):** $\\hat{Log(CPI)} = 7.8379 + 1.3766*\\hat{Log(M2)} - 1.6266*\\hat{Log(GDP)} + 1.4094*\\hat{Log(V)}$\n",
    "\n",
    "### First Conclusion:\n",
    "Our first conclusion would be the empirical data, with or without the impact of money velocity V, the coefficient of Log(M2) is alwasy positive and the coefficient of Log(GDP) is always negative confirms with the theoretical model of Quantity Theory of Money\n",
    "\\\n",
    "                    **$$CPI = \\frac{(M2 * V)}{GDP}$$**\n",
    "\n",
    "\n",
    "### Second Conclusion:\n",
    "Based on our findings, we would like to further discuss the impact of the presence of money velocity when it is not regarded as a constant. First, we would like to briefly list a few facts from the data and our finding:\n",
    "\n",
    "1. **Observation**: V is decreasing\n",
    "2. **Observation**: M2, CPI, and GDP are increasing\n",
    "3. **Observation**: increase in CPI overtime\n",
    "4. **Negative impact**: increase in GDP as the denominator, decrease in V as numerator\n",
    "5. **Positive impact**: incrase in M2 as numerator \n",
    "6. M2 without the influence of V: 1.1276 (from time frame 1)\n",
    "7. M2 with the influence of V: 1.3766 (from time frame 2)\n",
    "\n",
    "\n",
    "According to the model, the increase in M2 might be the dominent effect that outweights the negative impact from the increase in GDP and decrease in V and thus, further pushes US_CPI to increase.\n",
    "\n",
    "\n",
    "### Discussion\n",
    "**Timeframe1:** Adj. R-squared = 0.989\\\n",
    "**Timeframe2:** Adj. R-squared = 0.999\n",
    "\n",
    "By adding Log(V), the adjusted R-squared increase by 0.01. It indicates that Log(V) is actually a variable that can explain the increase in Log(US_CPI) better. A result like this is to be expected when regressing a strongly trended series on any other strongly trended series, regardless of whether they are logically related.\n"
   ]
  }
 ],
 "metadata": {
  "kernelspec": {
   "display_name": "Python 3",
   "language": "python",
   "name": "python3"
  },
  "language_info": {
   "codemirror_mode": {
    "name": "ipython",
    "version": 3
   },
   "file_extension": ".py",
   "mimetype": "text/x-python",
   "name": "python",
   "nbconvert_exporter": "python",
   "pygments_lexer": "ipython3",
   "version": "3.8.3"
  }
 },
 "nbformat": 4,
 "nbformat_minor": 4
}
