{
 "cells": [
  {
   "cell_type": "markdown",
   "metadata": {},
   "source": [
    "                                              Team 13 Final Project"
   ]
  },
  {
   "cell_type": "markdown",
   "metadata": {},
   "source": [
    "## Project Overview\n",
    "The focus of this project is to examine the validity of the Quantity Theory of Money, a fundamental macroeconomic model for predicting the inflation rate. According to the theory, there should be a positive relationship between money supply (M2) and price level (CPI). In this project, real-world data like CPI, GDP, and M2 from the past 20 years will be explored to test the relationship between these variable data using linear regression analysis. \n",
    "\n",
    "## Group Project Structure\n",
    "The project will begin with a data report provided, which will explain the origin of the data and how to access the data.\n",
    "\n",
    "The second part of the project will provide summary statistics about M2, CPI, GDP, Velocity of M2, and visualizations of these statistics to help further illustrate the project.\n",
    "\n",
    "The third part of the project will state a hypothesis based on the Quantity Theory of Money. Then, the project will conduct a linear regression on two periods of time (1960-1980 and 1999-2019). For the data from 1960 to 1980 in which the velocity of M2 was relatively constant, the project will test the hypothesis to study whether the model predicts a positive relationship between M2 and CPI in the real world; for the data from 1999 to 2019 in which the velocity of M2 dropped significantly, the project will examine the impact of the velocity of M2 on the model. \n",
    "\n",
    "Lastly, there will be a detailed discussion of the results and how it follows or goes against the model. \n",
    "\n",
    "## Data Report:\n",
    "The data for this project comes from the Federal Reserve Economic Data website (FRED). FRED provides data on the U.S. CPI (where we will compute the inflation rate), M2, GDP, Velocity of M2 (it will serve as a control variable in our analysis) from 1960 to 1980 and from 1999 to 2019. The data can be accessed at https://fred.stlouisfed.org.\n",
    "\n",
    "## Key variables: \n",
    "\n",
    "The four key variables in this project are M2, CPI, GDP, and Velocity of M2. \n",
    "\n",
    "M2 includes a broader set of financial assets held principally by households. M2 consists of M1 plus: (1) savings deposits (which include money market deposit accounts, or MMDAs); (2) small-denomination time deposits (time deposits in amounts of less than $100,000); and (3) balances in retail money market mutual funds (MMMFs). \n",
    "\n",
    "The Consumer Price Index (CPI) is a measure of the average change in the price of a basket of consumer goods and services and helps measure price inflation for consumers.\n",
    "\n",
    "Gross Domestic Product (GDP) is the total value of goods and services produced in a country annually.\n",
    "\n",
    "The velocity of M2 is the frequency at which one unit of currency is used to purchase domestically- produced goods and services within a given time period. In other words, it is the number of times one dollar is spent to buy goods and services per unit of time. If the velocity of money is increasing, then more transactions are occurring between individuals in an economy.\n"
   ]
  },
  {
   "cell_type": "code",
   "execution_count": null,
   "metadata": {},
   "outputs": [],
   "source": []
  }
 ],
 "metadata": {
  "kernelspec": {
   "display_name": "Python 3",
   "language": "python",
   "name": "python3"
  },
  "language_info": {
   "codemirror_mode": {
    "name": "ipython",
    "version": 3
   },
   "file_extension": ".py",
   "mimetype": "text/x-python",
   "name": "python",
   "nbconvert_exporter": "python",
   "pygments_lexer": "ipython3",
   "version": "3.8.3"
  }
 },
 "nbformat": 4,
 "nbformat_minor": 4
}
